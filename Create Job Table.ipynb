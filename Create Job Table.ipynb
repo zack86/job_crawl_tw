{
 "cells": [
  {
   "cell_type": "code",
   "execution_count": 4,
   "metadata": {},
   "outputs": [
    {
     "data": {
      "text/plain": [
       "0"
      ]
     },
     "execution_count": 4,
     "metadata": {},
     "output_type": "execute_result"
    }
   ],
   "source": [
    "import pymysql\n",
    "conn = pymysql.connect(host='localhost', port=3306, user='root', password='1234', db='jobs', use_unicode=True, charset=\"utf8mb4\", autocommit=True)\n",
    "cur = conn.cursor()\n",
    "cur.execute('''CREATE TABLE if not exists jobs.job1 (site varchar(10) charset utf8mb4 collate utf8mb4_bin not null,\n",
    "                                                    company varchar(500) charset utf8mb4 collate utf8mb4_bin not null,\n",
    "                                                    title varchar(500) charset utf8mb4 collate utf8mb4_bin not null,\n",
    "                                                    location varchar(500) charset utf8mb4 collate utf8mb4_bin,\n",
    "                                                    skills varchar(500) charset utf8mb4 collate utf8mb4_bin)''')"
   ]
  }
 ],
 "metadata": {
  "kernelspec": {
   "display_name": "Python 3",
   "language": "python",
   "name": "python3"
  },
  "language_info": {
   "codemirror_mode": {
    "name": "ipython",
    "version": 3
   },
   "file_extension": ".py",
   "mimetype": "text/x-python",
   "name": "python",
   "nbconvert_exporter": "python",
   "pygments_lexer": "ipython3",
   "version": "3.5.4"
  }
 },
 "nbformat": 4,
 "nbformat_minor": 2
}

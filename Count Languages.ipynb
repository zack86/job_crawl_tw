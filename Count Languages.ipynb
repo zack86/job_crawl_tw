{
 "cells": [
  {
   "cell_type": "code",
   "execution_count": 13,
   "metadata": {},
   "outputs": [
    {
     "data": {
      "text/plain": [
       "{'C': 2088,\n",
       " 'C#': 1582,\n",
       " 'C++': 2377,\n",
       " 'HTML': 1252,\n",
       " 'JAVA': 1758,\n",
       " 'JAVASCRIPT': 1603,\n",
       " 'JQUERY': 949,\n",
       " 'LINUX': 1416,\n",
       " 'PHP': 843,\n",
       " 'SQL': 2083}"
      ]
     },
     "execution_count": 13,
     "metadata": {},
     "output_type": "execute_result"
    }
   ],
   "source": [
    "import pymysql\n",
    "conn = pymysql.connect(host='localhost', port=3306, user='root', password='1234', db='jobs', use_unicode=True, charset=\"utf8mb4\", autocommit=True)\n",
    "cur = conn.cursor()\n",
    "\n",
    "cur.execute('SELECT UPPER(skills) FROM (SELECT DISTINCT company, title, skills FROM jobs.job1) AS a') # 做除重\n",
    "# cur.execute('SELECT skills from jobs.job1') # 不做除重\n",
    "\n",
    "languages_1 = ['C/', 'SQL', 'HTML', 'C#', 'PHP', 'JAVASCRIPT', 'LINUX', 'C++', 'JQUERY'] # 可模糊比對語言 Ex. 無論TSQL或OL/SQL只會被計算為一次SQL\n",
    "languages_2 = ['C', 'JAVA'] # 精準比對語言 Ex. Java 不會在 Javascript 被算入\n",
    "skills_dict = {}\n",
    "\n",
    "for row in cur:\n",
    "    skills = str.split(row[0], sep=' ') # DB資料以空格區分技術\n",
    "    \n",
    "    if len(skills) == 0: \n",
    "        continue # 若該工作沒有技術要求，則跳過到下筆工作\n",
    "    else:\n",
    "        languages_used = set() # 用Set來確保一種語言只有一份\n",
    "        \n",
    "         # 模糊比對\n",
    "        for item in languages_1:\n",
    "            for skill in skills:\n",
    "                if item in skill:\n",
    "                    languages_used.add(item)\n",
    "                    \n",
    "        # 精準比對\n",
    "        for item in [language for language in languages_2 if language in skills]:\n",
    "            languages_used.add(item)\n",
    "    \n",
    "        # 出現次數\n",
    "        for language in languages_used:\n",
    "            if language not in skills_dict:\n",
    "                skills_dict[language] = 1\n",
    "            else:\n",
    "                skills_dict[language] = int(skills_dict[language]) + 1\n",
    "                \n",
    "        \n",
    "# C/數量放入C，並把C/刪除\n",
    "skills_dict['C'] += skills_dict['C/']\n",
    "del skills_dict['C/']\n",
    "\n",
    "skills_dict"
   ]
  }
 ],
 "metadata": {
  "kernelspec": {
   "display_name": "Python 3",
   "language": "python",
   "name": "python3"
  },
  "language_info": {
   "codemirror_mode": {
    "name": "ipython",
    "version": 3
   },
   "file_extension": ".py",
   "mimetype": "text/x-python",
   "name": "python",
   "nbconvert_exporter": "python",
   "pygments_lexer": "ipython3",
   "version": "3.5.4"
  }
 },
 "nbformat": 4,
 "nbformat_minor": 2
}

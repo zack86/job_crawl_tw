{
 "cells": [
  {
   "cell_type": "markdown",
   "metadata": {},
   "source": [
    "## Crawl 1111"
   ]
  },
  {
   "cell_type": "code",
   "execution_count": 5,
   "metadata": {},
   "outputs": [],
   "source": [
    "from bs4 import BeautifulSoup\n",
    "import requests\n",
    "import pymysql\n",
    "import re"
   ]
  },
  {
   "cell_type": "code",
   "execution_count": 6,
   "metadata": {},
   "outputs": [],
   "source": [
    "def getPageContent(url):\n",
    "    resp = requests.get(url)\n",
    "    soup = BeautifulSoup(resp.text, 'html.parser')\n",
    "    return soup"
   ]
  },
  {
   "cell_type": "code",
   "execution_count": 7,
   "metadata": {},
   "outputs": [
    {
     "name": "stdout",
     "output_type": "stream",
     "text": [
      "page: 1\n",
      "page: 2\n",
      "page: 3\n",
      "page: 4\n",
      "page: 5\n",
      "page: 6\n",
      "page: 7\n",
      "page: 8\n",
      "page: 9\n",
      "page: 10\n",
      "page: 11\n",
      "page: 12\n",
      "page: 13\n",
      "page: 14\n",
      "page: 15\n",
      "page: 16\n",
      "page: 17\n",
      "page: 18\n",
      "page: 19\n",
      "page: 20\n",
      "page: 21\n",
      "page: 22\n",
      "page: 23\n",
      "page: 24\n",
      "page: 25\n",
      "page: 26\n",
      "page: 27\n",
      "page: 28\n",
      "page: 29\n",
      "page: 30\n",
      "page: 31\n",
      "page: 32\n",
      "page: 33\n",
      "page: 34\n",
      "page: 35\n",
      "page: 36\n",
      "page: 37\n",
      "page: 38\n",
      "page: 39\n",
      "page: 40\n"
     ]
    },
    {
     "data": {
      "text/plain": [
       "<bound method Connection.close of <pymysql.connections.Connection object at 0x082B8570>>"
      ]
     },
     "execution_count": 7,
     "metadata": {},
     "output_type": "execute_result"
    }
   ],
   "source": [
    "conn = pymysql.connect(host='localhost', port=3306, user='root', password='1234', db='jobs', use_unicode=True, charset=\"utf8mb4\", autocommit=True)\n",
    "cur = conn.cursor()\n",
    "insert_1111_template = \"insert into job1(site, company, title, location, skills) values(1111, %s, %s, %s, %s)\"\n",
    "\n",
    "keyword = '%E8%BB%9F%E9%AB%94%E8%A8%AD%E8%A8%88%E5%B7%A5%E7%A8%8B%E5%B8%AB' # 軟體設計工程師\n",
    "url_template = 'https://www.1111.com.tw/job-bank/job-index.asp?si=1&ss=s&ks=' + keyword + '&pt=1&ps=100&page={}'\n",
    "page = 0\n",
    "\n",
    "while True:\n",
    "    page += 1\n",
    "    job_links = []\n",
    "    job_soup = getPageContent(url_template.format(page)) \n",
    "    print('page: ' + str(page)) # 列印出本頁面號\n",
    "    anchors = job_soup.select('.JobsCss a')\n",
    "    \n",
    "    if len(anchors) > 0: # 若該頁面有職缺連結才爬\n",
    "        for link in anchors:\n",
    "            job_links.append('https:' + link['href'])\n",
    "        \n",
    "        all_jobs_in_page = [] # 【每頁所有職缺】初始化\n",
    "        \n",
    "        for job_link in job_links:\n",
    "            job_detail_soup = getPageContent(job_link)\n",
    "            \n",
    "            job = {} # 【職缺】初始化\n",
    "            \n",
    "            # 公司\n",
    "            company = job_detail_soup.select_one('.ellipsis')\n",
    "            if company is not None:\n",
    "                job['company'] = company.text\n",
    "            else:\n",
    "                job['company'] = ''\n",
    "                \n",
    "            # 職位\n",
    "            h1 = job_detail_soup.select_one('h1')\n",
    "            if h1 is not None:\n",
    "                job['title'] = str(h1.find('span').previousSibling)\n",
    "            else:\n",
    "                job['title'] = ''\n",
    "            \n",
    "            # 工作地點\n",
    "            listTitle = job_detail_soup.select('.listTitle') # 避免有些職缺Title出現'工作地點'，所以一律從.listTitle爬\n",
    "            loc_title = [title for title in listTitle if title.text == '工作地點：']\n",
    "            if len(loc_title) > 0:\n",
    "                job['location'] = loc_title[0].findNext('div').text.replace('地圖','').replace(' ','')\n",
    "            else:\n",
    "                job['location'] = ''\n",
    "            \n",
    "            # 電腦專長\n",
    "            listTitle = job_detail_soup.select('.listTitle') # 避免有些職缺Title出現'電腦專長'，所以一律從.listTitle爬\n",
    "            skill_title = [title for title in listTitle if title.text == '電腦專長：']\n",
    "            if len(skill_title) > 0:\n",
    "                job['skills'] = skill_title[0].findNext('div').text.replace('Java Script', 'JavaScript').replace('、',' ')\n",
    "            else:\n",
    "                job['skills'] = ''\n",
    "            \n",
    "            all_jobs_in_page.append(job) # 把【職缺】放入到【每頁所有職缺】陣列\n",
    "            \n",
    "        jobs_tuple_arr = [(job['company'], job['title'], job['location'], job['skills'], ) for job in all_jobs_in_page]\n",
    "        cur.executemany(insert_1111_template, jobs_tuple_arr) # 把本頁面所有職缺寫入DB\n",
    "        \n",
    "    else:\n",
    "        break # 若該頁面沒有職缺連結就中斷\n",
    "\n",
    "cur.close\n",
    "conn.close"
   ]
  },
  {
   "cell_type": "code",
   "execution_count": null,
   "metadata": {},
   "outputs": [],
   "source": []
  }
 ],
 "metadata": {
  "kernelspec": {
   "display_name": "Python 3",
   "language": "python",
   "name": "python3"
  },
  "language_info": {
   "codemirror_mode": {
    "name": "ipython",
    "version": 3
   },
   "file_extension": ".py",
   "mimetype": "text/x-python",
   "name": "python",
   "nbconvert_exporter": "python",
   "pygments_lexer": "ipython3",
   "version": "3.5.4"
  }
 },
 "nbformat": 4,
 "nbformat_minor": 2
}
